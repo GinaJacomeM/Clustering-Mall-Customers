{
 "cells": [
  {
   "cell_type": "markdown",
   "id": "cbc6fb70",
   "metadata": {},
   "source": [
    "# Análisis y Modelado de Segmentación de Clientes - KMeans y Clustering Jerárquico"
   ]
  },
  {
   "cell_type": "markdown",
   "id": "36b5ded2",
   "metadata": {},
   "source": [
    "## 1. Cargar y Explorar los Datos"
   ]
  },
  {
   "cell_type": "code",
   "execution_count": null,
   "id": "bffbf382",
   "metadata": {},
   "outputs": [],
   "source": [
    "import pandas as pd\n",
    "import seaborn as sns\n",
    "import matplotlib.pyplot as plt\n",
    "import os\n",
    "os.environ[\"OMP_NUM_THREADS\"] = \"1\"\n",
    "\n",
    "df = pd.read_csv('Mall_Customers.csv')\n",
    "\n",
    "print(df.info())\n",
    "print(df.describe())\n",
    "\n",
    "sns.countplot(x='Gender', data=df)\n",
    "plt.title('Distribución por género')\n",
    "plt.show()\n",
    "\n",
    "sns.scatterplot(x='Annual Income (k$)', y='Spending Score (1-100)', data=df)\n",
    "plt.title('Ingreso vs. Gasto')\n",
    "plt.show()"
   ]
  },
  {
   "cell_type": "markdown",
   "id": "ffc962d7",
   "metadata": {},
   "source": [
    "## 2. Preprocesamiento de Datos"
   ]
  },
  {
   "cell_type": "code",
   "execution_count": null,
   "id": "246ba167",
   "metadata": {},
   "outputs": [],
   "source": [
    "df['Gender'] = df['Gender'].map({'Male': 0, 'Female': 1})\n",
    "\n",
    "# Verificar valores nulos\n",
    "print(df.isnull().sum())\n",
    "\n",
    "df_model = df[['Gender', 'Age', 'Annual Income (k$)', 'Spending Score (1-100)']]"
   ]
  },
  {
   "cell_type": "markdown",
   "id": "5889d22f",
   "metadata": {},
   "source": [
    "## 3. Selección de Características"
   ]
  },
  {
   "cell_type": "code",
   "execution_count": null,
   "id": "037c8d04",
   "metadata": {},
   "outputs": [],
   "source": [
    "X = df[['Annual Income (k$)', 'Spending Score (1-100)']]"
   ]
  },
  {
   "cell_type": "markdown",
   "id": "535fcc2e",
   "metadata": {},
   "source": [
    "## 4. Entrenamiento de Modelos de Clustering"
   ]
  },
  {
   "cell_type": "code",
   "execution_count": null,
   "id": "57600deb",
   "metadata": {},
   "outputs": [],
   "source": [
    "from sklearn.cluster import KMeans\n",
    "import numpy as np\n",
    "\n",
    "# Método del codo\n",
    "inertia = []\n",
    "for k in range(1, 11):\n",
    "    kmeans = KMeans(n_clusters=k, random_state=42)\n",
    "    kmeans.fit(X)\n",
    "    inertia.append(kmeans.inertia_)\n",
    "\n",
    "plt.plot(range(1, 11), inertia, marker='o')\n",
    "plt.title('Método del Codo')\n",
    "plt.xlabel('Número de Clusters')\n",
    "plt.ylabel('Inercia')\n",
    "plt.show()\n",
    "\n",
    "# Entrenar KMeans\n",
    "kmeans = KMeans(n_clusters=5, random_state=42)\n",
    "df['KMeans_Cluster'] = kmeans.fit_predict(X)"
   ]
  },
  {
   "cell_type": "code",
   "execution_count": null,
   "id": "01fd58f8",
   "metadata": {},
   "outputs": [],
   "source": [
    "from scipy.cluster.hierarchy import dendrogram, linkage\n",
    "from sklearn.cluster import AgglomerativeClustering\n",
    "\n",
    "linked = linkage(X, method='ward')\n",
    "plt.figure(figsize=(10, 7))\n",
    "dendrogram(linked)\n",
    "plt.title('Dendrograma')\n",
    "plt.show()\n",
    "\n",
    "hc = AgglomerativeClustering(n_clusters=5)\n",
    "df['HC_Cluster'] = hc.fit_predict(X)"
   ]
  },
  {
   "cell_type": "markdown",
   "id": "61587cf1",
   "metadata": {},
   "source": [
    "## 5. Evaluación del Desempeño del Modelo"
   ]
  },
  {
   "cell_type": "code",
   "execution_count": null,
   "id": "1d8e7991",
   "metadata": {},
   "outputs": [],
   "source": [
    "from sklearn.metrics import silhouette_score, calinski_harabasz_score\n",
    "\n",
    "print('KMeans Silhouette:', silhouette_score(X, df['KMeans_Cluster']))\n",
    "print('KMeans Calinski-Harabasz:', calinski_harabasz_score(X, df['KMeans_Cluster']))\n",
    "\n",
    "print('HC Silhouette:', silhouette_score(X, df['HC_Cluster']))\n",
    "print('HC Calinski-Harabasz:', calinski_harabasz_score(X, df['HC_Cluster']))"
   ]
  },
  {
   "cell_type": "markdown",
   "id": "cc51734b",
   "metadata": {},
   "source": [
    "## 6. Visualización de Resultados"
   ]
  },
  {
   "cell_type": "code",
   "execution_count": null,
   "id": "cf718ff3",
   "metadata": {},
   "outputs": [],
   "source": [
    "sns.scatterplot(x='Annual Income (k$)', y='Spending Score (1-100)', hue='KMeans_Cluster', data=df, palette='Set1')\n",
    "plt.title('Segmentación por KMeans')\n",
    "plt.show()\n",
    "\n",
    "sns.scatterplot(x='Annual Income (k$)', y='Spending Score (1-100)', hue='HC_Cluster', data=df, palette='Set2')\n",
    "plt.title('Segmentación por Clustering Jerárquico')\n",
    "plt.show()"
   ]
  },
  {
   "cell_type": "markdown",
   "id": "dcea9587",
   "metadata": {},
   "source": [
    "## 7. Interpretación y Documentación"
   ]
  },
  {
   "cell_type": "markdown",
   "id": "af64344d",
   "metadata": {},
   "source": [
    "- K-Means tiende a encontrar grupos circulares y bien separados.\n",
    "- El dendrograma del clustering jerárquico permite visualizar relaciones entre clientes.\n",
    "- Las métricas como el coeficiente de Silhouette y el índice de Calinski-Harabasz ayudan a evaluar la calidad del agrupamiento.\n",
    "- Se pueden analizar los grupos para identificar perfiles de clientes (por ejemplo: alto ingreso, alto gasto)."
   ]
  }
 ],
 "metadata": {
  "kernelspec": {
   "display_name": "Python 3",
   "language": "python",
   "name": "python3"
  },
  "language_info": {
   "codemirror_mode": {
    "name": "ipython",
    "version": 3
   },
   "file_extension": ".py",
   "mimetype": "text/x-python",
   "name": "python",
   "nbconvert_exporter": "python",
   "pygments_lexer": "ipython3",
   "version": "3.12.1"
  }
 },
 "nbformat": 4,
 "nbformat_minor": 5
}
